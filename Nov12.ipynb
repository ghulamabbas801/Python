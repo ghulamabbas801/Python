{
 "cells": [
  {
   "cell_type": "code",
   "execution_count": 1,
   "id": "cbb3e4ce-4c5c-474e-a02f-5a99a9260f92",
   "metadata": {},
   "outputs": [
    {
     "name": "stdin",
     "output_type": "stream",
     "text": [
      "inter your name abbas\n"
     ]
    },
    {
     "data": {
      "text/plain": [
       "'abbas'"
      ]
     },
     "execution_count": 1,
     "metadata": {},
     "output_type": "execute_result"
    }
   ],
   "source": [
    "input(\"inter your name\")"
   ]
  },
  {
   "cell_type": "code",
   "execution_count": 3,
   "id": "b5755fc8-74be-4479-8659-d9efce231948",
   "metadata": {},
   "outputs": [
    {
     "name": "stdin",
     "output_type": "stream",
     "text": [
      "Enter your name Ali\n"
     ]
    }
   ],
   "source": [
    "std_name = input(\"Enter your name\")"
   ]
  },
  {
   "cell_type": "code",
   "execution_count": 5,
   "id": "9b8ebb0d-c980-477d-9bc0-fd619f87f4ac",
   "metadata": {},
   "outputs": [
    {
     "data": {
      "text/plain": [
       "'Ali'"
      ]
     },
     "execution_count": 5,
     "metadata": {},
     "output_type": "execute_result"
    }
   ],
   "source": [
    "std_name"
   ]
  },
  {
   "cell_type": "code",
   "execution_count": 9,
   "id": "b64e3ff2-0ea5-41ff-91db-1eb8aba0e3ac",
   "metadata": {},
   "outputs": [
    {
     "name": "stdin",
     "output_type": "stream",
     "text": [
      "enter your age 30\n"
     ]
    }
   ],
   "source": [
    "std_age = input(\"enter your age\")"
   ]
  },
  {
   "cell_type": "code",
   "execution_count": 11,
   "id": "9e040725-f1c8-4db4-9802-52a1a0119c8e",
   "metadata": {},
   "outputs": [
    {
     "data": {
      "text/plain": [
       "'30'"
      ]
     },
     "execution_count": 11,
     "metadata": {},
     "output_type": "execute_result"
    }
   ],
   "source": [
    "std_age"
   ]
  },
  {
   "cell_type": "markdown",
   "id": "e99d1027-f253-4565-9f6c-b0fb34919b0a",
   "metadata": {},
   "source": [
    "# type Casting"
   ]
  },
  {
   "cell_type": "code",
   "execution_count": 49,
   "id": "7e6d76ee-95e0-4b50-846d-4461b786af75",
   "metadata": {},
   "outputs": [
    {
     "name": "stdin",
     "output_type": "stream",
     "text": [
      "enter your age 12\n"
     ]
    },
    {
     "name": "stdout",
     "output_type": "stream",
     "text": [
      "12.0\n",
      "16.0\n",
      "12\n",
      "<class 'float'>\n"
     ]
    }
   ],
   "source": [
    "age = float(input(\"enter your age\"))\n",
    "print(age)\n",
    "print(age + 4)\n",
    "print(int(age))\n",
    "print(type(age))"
   ]
  },
  {
   "cell_type": "code",
   "execution_count": 82,
   "id": "16bab5ed-343d-44d4-ada5-bba9a01ccf34",
   "metadata": {},
   "outputs": [],
   "source": [
    "cout = \"PAKISTANS\""
   ]
  },
  {
   "cell_type": "code",
   "execution_count": 94,
   "id": "f9270fb0-9729-49a4-85d1-2f682a204e77",
   "metadata": {},
   "outputs": [],
   "source": [
    "cout = cout.title()"
   ]
  },
  {
   "cell_type": "code",
   "execution_count": 126,
   "id": "3067730f-d744-4499-9886-a005e82194df",
   "metadata": {},
   "outputs": [
    {
     "data": {
      "text/plain": [
       "14"
      ]
     },
     "execution_count": 126,
     "metadata": {},
     "output_type": "execute_result"
    }
   ],
   "source": [
    "std = \"Nasir Hussain \"\n",
    "len(std)"
   ]
  },
  {
   "cell_type": "code",
   "execution_count": 130,
   "id": "bb98fc93-7759-4fb8-ac2b-9286ef7a0f97",
   "metadata": {},
   "outputs": [],
   "source": [
    "std1 = \"Nasir Hussain\""
   ]
  },
  {
   "cell_type": "code",
   "execution_count": 134,
   "id": "d523fe24-7e15-406a-ae8b-ba8a87b8be06",
   "metadata": {},
   "outputs": [
    {
     "data": {
      "text/plain": [
       "False"
      ]
     },
     "execution_count": 134,
     "metadata": {},
     "output_type": "execute_result"
    }
   ],
   "source": [
    "std == std1"
   ]
  },
  {
   "cell_type": "code",
   "execution_count": 138,
   "id": "bd595ad7-a533-4bf6-b65a-acb00e07cd0e",
   "metadata": {},
   "outputs": [
    {
     "data": {
      "text/plain": [
       "'Nasir Hussain '"
      ]
     },
     "execution_count": 138,
     "metadata": {},
     "output_type": "execute_result"
    }
   ],
   "source": [
    "std.lstrip()"
   ]
  },
  {
   "cell_type": "code",
   "execution_count": 142,
   "id": "5259488e-bfca-4dad-bf3b-b54e5d99dee6",
   "metadata": {},
   "outputs": [
    {
     "data": {
      "text/plain": [
       "['Nasir', 'Hussain']"
      ]
     },
     "execution_count": 142,
     "metadata": {},
     "output_type": "execute_result"
    }
   ],
   "source": [
    "std.rsplit()"
   ]
  },
  {
   "cell_type": "code",
   "execution_count": 146,
   "id": "ecf9bdbb-1dac-4804-883d-e84a38488152",
   "metadata": {},
   "outputs": [
    {
     "data": {
      "text/plain": [
       "'Nasir Hussain'"
      ]
     },
     "execution_count": 146,
     "metadata": {},
     "output_type": "execute_result"
    }
   ],
   "source": [
    "std.strip()"
   ]
  },
  {
   "cell_type": "code",
   "execution_count": 154,
   "id": "51229f5e-1032-49a8-ac6f-ca49b2e870c8",
   "metadata": {},
   "outputs": [
    {
     "data": {
      "text/plain": [
       "True"
      ]
     },
     "execution_count": 154,
     "metadata": {},
     "output_type": "execute_result"
    }
   ],
   "source": [
    "std.strip() == std1"
   ]
  },
  {
   "cell_type": "code",
   "execution_count": 158,
   "id": "6a271910-2915-4704-908b-f1d7d756f1a0",
   "metadata": {},
   "outputs": [
    {
     "data": {
      "text/plain": [
       "'NAsir HussAin '"
      ]
     },
     "execution_count": 158,
     "metadata": {},
     "output_type": "execute_result"
    }
   ],
   "source": [
    "std.replace('a',\"A\")"
   ]
  },
  {
   "cell_type": "markdown",
   "id": "3f6847f4-797a-4a45-9c56-8ba097a5e452",
   "metadata": {},
   "source": [
    "# String COncatenation:Joining"
   ]
  },
  {
   "cell_type": "code",
   "execution_count": 164,
   "id": "edbaf972-b573-4f36-8ed4-b4aeed4d30b4",
   "metadata": {},
   "outputs": [],
   "source": [
    "f_name = \"Artificial\"\n",
    "l_name = \"Intelligence\""
   ]
  },
  {
   "cell_type": "code",
   "execution_count": 178,
   "id": "1f744e7f-fb61-43d5-95bc-85788d47c980",
   "metadata": {},
   "outputs": [
    {
     "data": {
      "text/plain": [
       "'Artificial Intelligence'"
      ]
     },
     "execution_count": 178,
     "metadata": {},
     "output_type": "execute_result"
    }
   ],
   "source": [
    "name = f_name + \" \" +l_name\n",
    "name"
   ]
  },
  {
   "cell_type": "code",
   "execution_count": 206,
   "id": "cb69f403-c9f1-49ef-9f00-579de7ced3aa",
   "metadata": {},
   "outputs": [
    {
     "name": "stdin",
     "output_type": "stream",
     "text": [
      "enter your course name:  Artificial Intelligence and Data Science\n",
      "how many std are enroll 500\n",
      "name of institude Saylani\n"
     ]
    },
    {
     "name": "stdout",
     "output_type": "stream",
     "text": [
      "We are learnging Artificial Intelligence and Data Science.\n",
      "There are 500 enrolled inour course at Saylani\n"
     ]
    }
   ],
   "source": [
    "course = input(\"enter your course name: \")\n",
    "num_std = input(\"how many std are enroll\")\n",
    "institude = input(\"name of institude\")\n",
    "\n",
    "print(\"We are learnging \"+course+\".\\nThere are \"+num_std+\" enrolled inour course at \"+institude)"
   ]
  },
  {
   "cell_type": "markdown",
   "id": "10695bb7-9223-4b81-8434-a5dbe3a82d41",
   "metadata": {},
   "source": [
    "# format"
   ]
  },
  {
   "cell_type": "code",
   "execution_count": 210,
   "id": "14ff580d-e04d-415c-927b-b22de0a54b48",
   "metadata": {},
   "outputs": [
    {
     "data": {
      "text/plain": [
       "'We are learing Artificial Intelligence and Data Science.There are 500 students enroled inour course at Saylani'"
      ]
     },
     "execution_count": 210,
     "metadata": {},
     "output_type": "execute_result"
    }
   ],
   "source": [
    "#placeholder\n",
    "\"We are learing {}.There are {} students enroled inour course at {}\".format(course, num_std,institude)"
   ]
  },
  {
   "cell_type": "markdown",
   "id": "1c641173-0e87-466a-b899-6ae4e7d3b589",
   "metadata": {},
   "source": [
    "# f-formating"
   ]
  },
  {
   "cell_type": "code",
   "execution_count": 217,
   "id": "15e3312b-e37e-4c6d-aa53-0e508480c85a",
   "metadata": {},
   "outputs": [
    {
     "name": "stdout",
     "output_type": "stream",
     "text": [
      "We are learing Artificial Intelligence and Data Science.There are 500 students enroled inour course at Saylani\n"
     ]
    }
   ],
   "source": [
    "print(f\"We are learing {course}.There are {num_std} students enroled inour course at {institude}\")"
   ]
  },
  {
   "cell_type": "code",
   "execution_count": 223,
   "id": "7e99d988-1800-462e-ba52-849f68ec043e",
   "metadata": {},
   "outputs": [
    {
     "name": "stdout",
     "output_type": "stream",
     "text": [
      "hellow 12 12.4 True\n"
     ]
    }
   ],
   "source": [
    "print(\"hellow\",12,12.4,True)"
   ]
  },
  {
   "cell_type": "code",
   "execution_count": 225,
   "id": "71391d46-3e35-4fc4-8a1d-d652bb4005fd",
   "metadata": {},
   "outputs": [
    {
     "name": "stdout",
     "output_type": "stream",
     "text": [
      "hellow-12-12.4-True\n"
     ]
    }
   ],
   "source": [
    "print(\"hellow\",12,12.4,True,sep=\"-\")"
   ]
  },
  {
   "cell_type": "code",
   "execution_count": 227,
   "id": "a7eaf0d1-5b6a-47d1-8ee8-c5b12cae4bdb",
   "metadata": {},
   "outputs": [
    {
     "name": "stdout",
     "output_type": "stream",
     "text": [
      "hello\n",
      "12\n",
      "False\n",
      "12.4\n"
     ]
    }
   ],
   "source": [
    "print(\"hello\")\n",
    "print(12)\n",
    "print(False)\n",
    "print(12.4)"
   ]
  },
  {
   "cell_type": "code",
   "execution_count": 233,
   "id": "98147ba2-d13e-4015-8064-4939772f7bc6",
   "metadata": {},
   "outputs": [
    {
     "name": "stdout",
     "output_type": "stream",
     "text": [
      "hello 12False12.4"
     ]
    }
   ],
   "source": [
    "print(\"hello\",end=\" \")\n",
    "print(12,end=\" \")\n",
    "print(False,end=\" \")\n",
    "print(12.4,end=\"\")"
   ]
  }
 ],
 "metadata": {
  "kernelspec": {
   "display_name": "Python 3 (ipykernel)",
   "language": "python",
   "name": "python3"
  },
  "language_info": {
   "codemirror_mode": {
    "name": "ipython",
    "version": 3
   },
   "file_extension": ".py",
   "mimetype": "text/x-python",
   "name": "python",
   "nbconvert_exporter": "python",
   "pygments_lexer": "ipython3",
   "version": "3.12.7"
  }
 },
 "nbformat": 4,
 "nbformat_minor": 5
}
