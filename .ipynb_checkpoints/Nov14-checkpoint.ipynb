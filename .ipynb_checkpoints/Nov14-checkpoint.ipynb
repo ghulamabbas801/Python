{
 "cells": [
  {
   "cell_type": "markdown",
   "id": "4bc7c821-8705-40d8-8fcd-50f287d47d97",
   "metadata": {},
   "source": [
    "# python Collections:python data structure\n",
    "list\n",
    "Dictionary\n",
    "tuple \n",
    "set"
   ]
  },
  {
   "cell_type": "markdown",
   "id": "4fdd576a-7e18-45bb-88c1-b96d0e76d8c9",
   "metadata": {},
   "source": [
    "# List\n",
    "    -list is python collection.\n",
    "    -can hold many values together\n",
    "    -cand hold many data types together\n",
    "    -is mutable\n",
    "    -iterable\n",
    "List declaration : []"
   ]
  },
  {
   "cell_type": "code",
   "execution_count": 12,
   "id": "7615ab2a-713c-4b44-801a-ec0a27b4213a",
   "metadata": {},
   "outputs": [],
   "source": [
    "student_name = \"yaseen\""
   ]
  },
  {
   "cell_type": "code",
   "execution_count": 30,
   "id": "3bcfa8c9-f461-4679-a615-d5db62a07dd6",
   "metadata": {},
   "outputs": [],
   "source": [
    "student = ['Yaseen','Umer','abbas','iqbal']"
   ]
  },
  {
   "cell_type": "code",
   "execution_count": 34,
   "id": "2b1b3e09-b54a-45be-a44c-f5c58397df5a",
   "metadata": {},
   "outputs": [
    {
     "name": "stdout",
     "output_type": "stream",
     "text": [
      "<class 'list'>\n"
     ]
    }
   ],
   "source": [
    "print(type(student))"
   ]
  },
  {
   "cell_type": "code",
   "execution_count": 38,
   "id": "b8eaa5bd-3f16-4088-80c9-e428517db7ef",
   "metadata": {},
   "outputs": [],
   "source": [
    "items = []"
   ]
  },
  {
   "cell_type": "code",
   "execution_count": 42,
   "id": "c30c452f-19af-4536-9235-39b4b9830117",
   "metadata": {},
   "outputs": [
    {
     "data": {
      "text/plain": [
       "0"
      ]
     },
     "execution_count": 42,
     "metadata": {},
     "output_type": "execute_result"
    }
   ],
   "source": [
    "len(items)"
   ]
  },
  {
   "cell_type": "code",
   "execution_count": 48,
   "id": "49768814-396f-428c-88a6-b6a4de505a95",
   "metadata": {},
   "outputs": [
    {
     "data": {
      "text/plain": [
       "4"
      ]
     },
     "execution_count": 48,
     "metadata": {},
     "output_type": "execute_result"
    }
   ],
   "source": [
    "len(student)"
   ]
  },
  {
   "cell_type": "markdown",
   "id": "7f0ea7e7-dd7f-450f-95dc-930cd1072914",
   "metadata": {},
   "source": [
    "# List Indexing"
   ]
  },
  {
   "cell_type": "code",
   "execution_count": 54,
   "id": "5f72bfd6-df42-4335-ba0c-37288ac4eb5b",
   "metadata": {},
   "outputs": [],
   "source": [
    "#           -4      -3        -2       -1\n",
    "student = ['Yaseen','Umer','abbas','iqbal']\n",
    "# index       0       1       2       3"
   ]
  },
  {
   "cell_type": "code",
   "execution_count": 58,
   "id": "7501e8d5-051c-48ef-b401-d6a63c93a608",
   "metadata": {},
   "outputs": [
    {
     "data": {
      "text/plain": [
       "'Umer'"
      ]
     },
     "execution_count": 58,
     "metadata": {},
     "output_type": "execute_result"
    }
   ],
   "source": [
    "student [1]"
   ]
  },
  {
   "cell_type": "code",
   "execution_count": 62,
   "id": "3a0a2cc6-98d7-4a8f-b770-19d971849306",
   "metadata": {},
   "outputs": [
    {
     "data": {
      "text/plain": [
       "'iqbal'"
      ]
     },
     "execution_count": 62,
     "metadata": {},
     "output_type": "execute_result"
    }
   ],
   "source": [
    "student[-1]"
   ]
  },
  {
   "cell_type": "markdown",
   "id": "fb27ccfa-db2d-4929-bab4-2d33da3dc1d7",
   "metadata": {},
   "source": [
    "# adding members to and existing list\n",
    "    -append() : adds a member at very last.\n",
    "    -insert() : adds a member at provided index.\n",
    "    -extend() : adds many members together in list\n",
    "    - +       : concatenate two lists"
   ]
  },
  {
   "cell_type": "code",
   "execution_count": 69,
   "id": "5aa26325-fbbd-4bc0-b356-de6b64013809",
   "metadata": {},
   "outputs": [],
   "source": [
    "student.append(\"ali\")"
   ]
  },
  {
   "cell_type": "code",
   "execution_count": 73,
   "id": "f314292d-8f08-4b8a-809b-ebd1f90b9a84",
   "metadata": {},
   "outputs": [
    {
     "data": {
      "text/plain": [
       "['Yaseen', 'Umer', 'abbas', 'iqbal', 'ali', 'ali']"
      ]
     },
     "execution_count": 73,
     "metadata": {},
     "output_type": "execute_result"
    }
   ],
   "source": [
    "student"
   ]
  },
  {
   "cell_type": "code",
   "execution_count": 79,
   "id": "04e715cd-878e-424c-8b2f-1bcc9ba25aa8",
   "metadata": {},
   "outputs": [],
   "source": [
    "student.insert(3,\"imran\")"
   ]
  },
  {
   "cell_type": "code",
   "execution_count": 83,
   "id": "a82f81a6-f4da-471f-a69b-d00e590f0dbc",
   "metadata": {},
   "outputs": [
    {
     "data": {
      "text/plain": [
       "['Yaseen', 'Umer', 'abbas', 'imran', 'imran', 'iqbal', 'ali', 'ali']"
      ]
     },
     "execution_count": 83,
     "metadata": {},
     "output_type": "execute_result"
    }
   ],
   "source": [
    "student"
   ]
  },
  {
   "cell_type": "code",
   "execution_count": 89,
   "id": "a0ebb0ea-5947-482f-923f-3673fd886381",
   "metadata": {},
   "outputs": [
    {
     "ename": "TypeError",
     "evalue": "insert expected 2 arguments, got 3",
     "output_type": "error",
     "traceback": [
      "\u001b[1;31m---------------------------------------------------------------------------\u001b[0m",
      "\u001b[1;31mTypeError\u001b[0m                                 Traceback (most recent call last)",
      "Cell \u001b[1;32mIn[89], line 1\u001b[0m\n\u001b[1;32m----> 1\u001b[0m student\u001b[38;5;241m.\u001b[39minsert(\u001b[38;5;241m5\u001b[39m,\u001b[38;5;124m\"\u001b[39m\u001b[38;5;124msuuny\u001b[39m\u001b[38;5;124m\"\u001b[39m,\u001b[38;5;124m\"\u001b[39m\u001b[38;5;124mraza\u001b[39m\u001b[38;5;124m\"\u001b[39m)\n",
      "\u001b[1;31mTypeError\u001b[0m: insert expected 2 arguments, got 3"
     ]
    }
   ],
   "source": [
    "student.insert(5,\"suuny\",\"raza\")"
   ]
  },
  {
   "cell_type": "code",
   "execution_count": 95,
   "id": "916a17a5-ce23-4b4f-a09e-fa7c26c0d8f4",
   "metadata": {},
   "outputs": [],
   "source": [
    "student.extend(['Yaseen', 'Umer', 'abbas', 'iqbal', 'ali', 'ali'])"
   ]
  },
  {
   "cell_type": "code",
   "execution_count": 99,
   "id": "a2e48884-8fe0-482e-834c-d0f3cec3d6ce",
   "metadata": {},
   "outputs": [
    {
     "data": {
      "text/plain": [
       "['Yaseen',\n",
       " 'Umer',\n",
       " 'abbas',\n",
       " 'imran',\n",
       " 'imran',\n",
       " 'iqbal',\n",
       " 'ali',\n",
       " 'ali',\n",
       " 'Yaseen',\n",
       " 'Umer',\n",
       " 'abbas',\n",
       " 'iqbal',\n",
       " 'ali',\n",
       " 'ali',\n",
       " 'Yaseen',\n",
       " 'Umer',\n",
       " 'abbas',\n",
       " 'iqbal',\n",
       " 'ali',\n",
       " 'ali']"
      ]
     },
     "execution_count": 99,
     "metadata": {},
     "output_type": "execute_result"
    }
   ],
   "source": [
    "student"
   ]
  },
  {
   "cell_type": "code",
   "execution_count": 103,
   "id": "c1c06392-5248-4778-8ea6-95ad3630c9c1",
   "metadata": {},
   "outputs": [],
   "source": [
    "teacher = ['nasir teacher','asad teacher']"
   ]
  },
  {
   "cell_type": "code",
   "execution_count": 107,
   "id": "9ae5786c-16fd-4b54-853e-62f5c83e8247",
   "metadata": {},
   "outputs": [
    {
     "data": {
      "text/plain": [
       "['Yaseen',\n",
       " 'Umer',\n",
       " 'abbas',\n",
       " 'imran',\n",
       " 'imran',\n",
       " 'iqbal',\n",
       " 'ali',\n",
       " 'ali',\n",
       " 'Yaseen',\n",
       " 'Umer',\n",
       " 'abbas',\n",
       " 'iqbal',\n",
       " 'ali',\n",
       " 'ali',\n",
       " 'Yaseen',\n",
       " 'Umer',\n",
       " 'abbas',\n",
       " 'iqbal',\n",
       " 'ali',\n",
       " 'ali',\n",
       " 'nasir teacher',\n",
       " 'asad teacher']"
      ]
     },
     "execution_count": 107,
     "metadata": {},
     "output_type": "execute_result"
    }
   ],
   "source": [
    "student + teacher"
   ]
  },
  {
   "cell_type": "markdown",
   "id": "fcd717fb-f2a4-4d8c-975f-a281f7c95578",
   "metadata": {},
   "source": [
    "# Deleting / Removing members from an existing list\n",
    "    -del statement : delete a member via index permanently\n",
    "    -remove()      : delete a member via value permanently\n",
    "    -pop()         : delete a member via index permanently\n",
    "    -clear()       : delete all member from list permanently"
   ]
  },
  {
   "cell_type": "code",
   "execution_count": 117,
   "id": "4d80ceae-cf55-4186-a844-b8d9306e6eb5",
   "metadata": {},
   "outputs": [],
   "source": [
    "del student[0]"
   ]
  },
  {
   "cell_type": "code",
   "execution_count": 121,
   "id": "ae612a28-9d2b-41e0-8bcf-98ce06653727",
   "metadata": {},
   "outputs": [
    {
     "data": {
      "text/plain": [
       "['abbas',\n",
       " 'imran',\n",
       " 'imran',\n",
       " 'iqbal',\n",
       " 'ali',\n",
       " 'ali',\n",
       " 'Yaseen',\n",
       " 'Umer',\n",
       " 'abbas',\n",
       " 'iqbal',\n",
       " 'ali',\n",
       " 'ali',\n",
       " 'Yaseen',\n",
       " 'Umer',\n",
       " 'abbas',\n",
       " 'iqbal',\n",
       " 'ali',\n",
       " 'ali']"
      ]
     },
     "execution_count": 121,
     "metadata": {},
     "output_type": "execute_result"
    }
   ],
   "source": [
    "student"
   ]
  },
  {
   "cell_type": "code",
   "execution_count": 131,
   "id": "0335f3ad-26cf-425f-9622-775b11b34c0e",
   "metadata": {},
   "outputs": [],
   "source": [
    "# first occurance value deleted\n",
    "student.remove(\"abbas\")"
   ]
  },
  {
   "cell_type": "code",
   "execution_count": 133,
   "id": "cae66483-173b-4d3a-b796-97259c4988f3",
   "metadata": {},
   "outputs": [
    {
     "data": {
      "text/plain": [
       "['imran',\n",
       " 'imran',\n",
       " 'iqbal',\n",
       " 'ali',\n",
       " 'ali',\n",
       " 'Yaseen',\n",
       " 'Umer',\n",
       " 'iqbal',\n",
       " 'ali',\n",
       " 'ali',\n",
       " 'Yaseen',\n",
       " 'Umer',\n",
       " 'iqbal',\n",
       " 'ali',\n",
       " 'ali']"
      ]
     },
     "execution_count": 133,
     "metadata": {},
     "output_type": "execute_result"
    }
   ],
   "source": [
    "student"
   ]
  },
  {
   "cell_type": "code",
   "execution_count": null,
   "id": "30cc4b4e-74cf-4c32-a699-8751af1d1525",
   "metadata": {},
   "outputs": [],
   "source": []
  }
 ],
 "metadata": {
  "kernelspec": {
   "display_name": "Python 3 (ipykernel)",
   "language": "python",
   "name": "python3"
  },
  "language_info": {
   "codemirror_mode": {
    "name": "ipython",
    "version": 3
   },
   "file_extension": ".py",
   "mimetype": "text/x-python",
   "name": "python",
   "nbconvert_exporter": "python",
   "pygments_lexer": "ipython3",
   "version": "3.12.7"
  }
 },
 "nbformat": 4,
 "nbformat_minor": 5
}
